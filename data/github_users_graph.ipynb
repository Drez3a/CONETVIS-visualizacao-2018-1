{
 "cells": [
  {
   "cell_type": "markdown",
   "metadata": {},
   "source": [
    "# Parte 1: Dados - Users_Followers"
   ]
  },
  {
   "cell_type": "code",
   "execution_count": 4,
   "metadata": {},
   "outputs": [],
   "source": [
    "import pandas as pd\n",
    "import re\n",
    "import numpy as np\n",
    "\n",
    "def fs_to_dataframe(fs):\n",
    "    return pd.DataFrame({'User': re.split('\\W+', fs)})\n",
    "\n",
    "def create_edges_df(batches):\n",
    "    return pd.concat(batches,\n",
    "        ignore_index=True)"
   ]
  },
  {
   "cell_type": "code",
   "execution_count": 6,
   "metadata": {},
   "outputs": [
    {
     "data": {
      "text/html": [
       "<div>\n",
       "<style scoped>\n",
       "    .dataframe tbody tr th:only-of-type {\n",
       "        vertical-align: middle;\n",
       "    }\n",
       "\n",
       "    .dataframe tbody tr th {\n",
       "        vertical-align: top;\n",
       "    }\n",
       "\n",
       "    .dataframe thead th {\n",
       "        text-align: right;\n",
       "    }\n",
       "</style>\n",
       "<table border=\"1\" class=\"dataframe\">\n",
       "  <thead>\n",
       "    <tr style=\"text-align: right;\">\n",
       "      <th></th>\n",
       "      <th>User</th>\n",
       "      <th>All_Followers</th>\n",
       "      <th>nF</th>\n",
       "    </tr>\n",
       "  </thead>\n",
       "  <tbody>\n",
       "    <tr>\n",
       "      <th>0</th>\n",
       "      <td>tarruda</td>\n",
       "      <td>Sannis,danielmahon,csjaba,FergusRedican,Victor...</td>\n",
       "      <td>570</td>\n",
       "    </tr>\n",
       "    <tr>\n",
       "      <th>1</th>\n",
       "      <td>mairatma</td>\n",
       "      <td>brunocoelho,henvic,eduardolundgren,aperrelli,a...</td>\n",
       "      <td>363</td>\n",
       "    </tr>\n",
       "    <tr>\n",
       "      <th>2</th>\n",
       "      <td>joselitojunior1</td>\n",
       "      <td>renatooliveira,jeffesonmaia,jotaefe,duartefq,J...</td>\n",
       "      <td>350</td>\n",
       "    </tr>\n",
       "    <tr>\n",
       "      <th>3</th>\n",
       "      <td>marcelcaraciolo</td>\n",
       "      <td>thiagoarrais,brunojm,henriquebastos,macndesign...</td>\n",
       "      <td>330</td>\n",
       "    </tr>\n",
       "    <tr>\n",
       "      <th>4</th>\n",
       "      <td>luanfonceca</td>\n",
       "      <td>brunohenrique,luizvarela,gladson,lucasbibiano,...</td>\n",
       "      <td>301</td>\n",
       "    </tr>\n",
       "  </tbody>\n",
       "</table>\n",
       "</div>"
      ],
      "text/plain": [
       "              User                                      All_Followers   nF\n",
       "0          tarruda  Sannis,danielmahon,csjaba,FergusRedican,Victor...  570\n",
       "1         mairatma  brunocoelho,henvic,eduardolundgren,aperrelli,a...  363\n",
       "2  joselitojunior1  renatooliveira,jeffesonmaia,jotaefe,duartefq,J...  350\n",
       "3  marcelcaraciolo  thiagoarrais,brunojm,henriquebastos,macndesign...  330\n",
       "4      luanfonceca  brunohenrique,luizvarela,gladson,lucasbibiano,...  301"
      ]
     },
     "execution_count": 6,
     "metadata": {},
     "output_type": "execute_result"
    }
   ],
   "source": [
    "# load dataset\n",
    "\n",
    "gh_users_allFollowers = pd.read_csv('temp_users_all-followers.csv')\n",
    "gh_users_allFollowers.head()"
   ]
  },
  {
   "cell_type": "code",
   "execution_count": 7,
   "metadata": {},
   "outputs": [
    {
     "data": {
      "text/html": [
       "<div>\n",
       "<style scoped>\n",
       "    .dataframe tbody tr th:only-of-type {\n",
       "        vertical-align: middle;\n",
       "    }\n",
       "\n",
       "    .dataframe tbody tr th {\n",
       "        vertical-align: top;\n",
       "    }\n",
       "\n",
       "    .dataframe thead th {\n",
       "        text-align: right;\n",
       "    }\n",
       "</style>\n",
       "<table border=\"1\" class=\"dataframe\">\n",
       "  <thead>\n",
       "    <tr style=\"text-align: right;\">\n",
       "      <th></th>\n",
       "      <th>User</th>\n",
       "      <th>All_Followers</th>\n",
       "      <th>nF</th>\n",
       "    </tr>\n",
       "  </thead>\n",
       "  <tbody>\n",
       "    <tr>\n",
       "      <th>0</th>\n",
       "      <td>tarruda</td>\n",
       "      <td>User\n",
       "0                  S...</td>\n",
       "      <td>570</td>\n",
       "    </tr>\n",
       "    <tr>\n",
       "      <th>1</th>\n",
       "      <td>mairatma</td>\n",
       "      <td>User\n",
       "0          brunocoelho\n",
       "...</td>\n",
       "      <td>363</td>\n",
       "    </tr>\n",
       "    <tr>\n",
       "      <th>2</th>\n",
       "      <td>joselitojunior1</td>\n",
       "      <td>User\n",
       "0      renatooliveira\n",
       "1 ...</td>\n",
       "      <td>350</td>\n",
       "    </tr>\n",
       "    <tr>\n",
       "      <th>3</th>\n",
       "      <td>marcelcaraciolo</td>\n",
       "      <td>User\n",
       "0       thiagoarrais\n",
       "1   ...</td>\n",
       "      <td>330</td>\n",
       "    </tr>\n",
       "    <tr>\n",
       "      <th>4</th>\n",
       "      <td>luanfonceca</td>\n",
       "      <td>User\n",
       "0      brunohenrique\n",
       "1   ...</td>\n",
       "      <td>301</td>\n",
       "    </tr>\n",
       "  </tbody>\n",
       "</table>\n",
       "</div>"
      ],
      "text/plain": [
       "              User                                      All_Followers   nF\n",
       "0          tarruda                       User\n",
       "0                  S...  570\n",
       "1         mairatma                    User\n",
       "0          brunocoelho\n",
       "...  363\n",
       "2  joselitojunior1                   User\n",
       "0      renatooliveira\n",
       "1 ...  350\n",
       "3  marcelcaraciolo                  User\n",
       "0       thiagoarrais\n",
       "1   ...  330\n",
       "4      luanfonceca                  User\n",
       "0      brunohenrique\n",
       "1   ...  301"
      ]
     },
     "execution_count": 7,
     "metadata": {},
     "output_type": "execute_result"
    }
   ],
   "source": [
    "# normalizing\n",
    "gh_users_allFollowers['All_Followers'] = gh_users_allFollowers['All_Followers'].fillna('')\n",
    "gh_users_allFollowers['All_Followers'] = gh_users_allFollowers['All_Followers'].apply(fs_to_dataframe)\n",
    "\n",
    "gh_users_allFollowers.head()"
   ]
  },
  {
   "cell_type": "code",
   "execution_count": 21,
   "metadata": {},
   "outputs": [
    {
     "data": {
      "text/html": [
       "<div>\n",
       "<style scoped>\n",
       "    .dataframe tbody tr th:only-of-type {\n",
       "        vertical-align: middle;\n",
       "    }\n",
       "\n",
       "    .dataframe tbody tr th {\n",
       "        vertical-align: top;\n",
       "    }\n",
       "\n",
       "    .dataframe thead th {\n",
       "        text-align: right;\n",
       "    }\n",
       "</style>\n",
       "<table border=\"1\" class=\"dataframe\">\n",
       "  <thead>\n",
       "    <tr style=\"text-align: right;\">\n",
       "      <th></th>\n",
       "      <th>User</th>\n",
       "      <th>Followers</th>\n",
       "      <th>nFs</th>\n",
       "    </tr>\n",
       "  </thead>\n",
       "  <tbody>\n",
       "    <tr>\n",
       "      <th>12</th>\n",
       "      <td>fernandocastor</td>\n",
       "      <td>User\n",
       "0   joselitojunior1\n",
       "1     ...</td>\n",
       "      <td>48</td>\n",
       "    </tr>\n",
       "    <tr>\n",
       "      <th>8</th>\n",
       "      <td>filipeximenes</td>\n",
       "      <td>User\n",
       "0          luanfonceca\n",
       "...</td>\n",
       "      <td>40</td>\n",
       "    </tr>\n",
       "    <tr>\n",
       "      <th>7</th>\n",
       "      <td>simoneas02</td>\n",
       "      <td>User\n",
       "0         talitaolive...</td>\n",
       "      <td>37</td>\n",
       "    </tr>\n",
       "    <tr>\n",
       "      <th>9</th>\n",
       "      <td>renatooliveira</td>\n",
       "      <td>User\n",
       "0   joselitojunior1\n",
       "1     ...</td>\n",
       "      <td>35</td>\n",
       "    </tr>\n",
       "    <tr>\n",
       "      <th>26</th>\n",
       "      <td>lailsonbm</td>\n",
       "      <td>User\n",
       "0       luanfonceca\n",
       "1     ...</td>\n",
       "      <td>29</td>\n",
       "    </tr>\n",
       "  </tbody>\n",
       "</table>\n",
       "</div>"
      ],
      "text/plain": [
       "              User                                          Followers  nFs\n",
       "12  fernandocastor                 User\n",
       "0   joselitojunior1\n",
       "1     ...   48\n",
       "8    filipeximenes                    User\n",
       "0          luanfonceca\n",
       "...   40\n",
       "7       simoneas02                      User\n",
       "0         talitaolive...   37\n",
       "9   renatooliveira                 User\n",
       "0   joselitojunior1\n",
       "1     ...   35\n",
       "26       lailsonbm                 User\n",
       "0       luanfonceca\n",
       "1     ...   29"
      ]
     },
     "execution_count": 21,
     "metadata": {},
     "output_type": "execute_result"
    }
   ],
   "source": [
    "# Dataframe apenas com os seguidores recifenses\n",
    "\n",
    "gh_users_Followers = gh_users_allFollowers.copy()\n",
    "\n",
    "gh_users_Followers['Followers'] = gh_users_Followers['All_Followers'].apply(pd.DataFrame({'User':gh_users_Followers['User']}).merge)\n",
    "gh_users_Followers['nFs'] = gh_users_Followers['Followers'].apply(len)\n",
    "\n",
    "gh_users_Followers.drop(['All_Followers', 'nF'], axis=1, inplace=True)\n",
    "gh_users_Followers.sort_values('nFs', axis=0, ascending=False, inplace=True)\n",
    "\n",
    "gh_users_Followers.head()"
   ]
  },
  {
   "cell_type": "code",
   "execution_count": 22,
   "metadata": {},
   "outputs": [
    {
     "data": {
      "text/html": [
       "<div>\n",
       "<style scoped>\n",
       "    .dataframe tbody tr th:only-of-type {\n",
       "        vertical-align: middle;\n",
       "    }\n",
       "\n",
       "    .dataframe tbody tr th {\n",
       "        vertical-align: top;\n",
       "    }\n",
       "\n",
       "    .dataframe thead th {\n",
       "        text-align: right;\n",
       "    }\n",
       "</style>\n",
       "<table border=\"1\" class=\"dataframe\">\n",
       "  <thead>\n",
       "    <tr style=\"text-align: right;\">\n",
       "      <th></th>\n",
       "      <th>Id</th>\n",
       "      <th>In-Degree</th>\n",
       "    </tr>\n",
       "  </thead>\n",
       "  <tbody>\n",
       "    <tr>\n",
       "      <th>12</th>\n",
       "      <td>fernandocastor</td>\n",
       "      <td>48</td>\n",
       "    </tr>\n",
       "    <tr>\n",
       "      <th>8</th>\n",
       "      <td>filipeximenes</td>\n",
       "      <td>40</td>\n",
       "    </tr>\n",
       "    <tr>\n",
       "      <th>7</th>\n",
       "      <td>simoneas02</td>\n",
       "      <td>37</td>\n",
       "    </tr>\n",
       "    <tr>\n",
       "      <th>9</th>\n",
       "      <td>renatooliveira</td>\n",
       "      <td>35</td>\n",
       "    </tr>\n",
       "    <tr>\n",
       "      <th>26</th>\n",
       "      <td>lailsonbm</td>\n",
       "      <td>29</td>\n",
       "    </tr>\n",
       "  </tbody>\n",
       "</table>\n",
       "</div>"
      ],
      "text/plain": [
       "                Id  In-Degree\n",
       "12  fernandocastor         48\n",
       "8    filipeximenes         40\n",
       "7       simoneas02         37\n",
       "9   renatooliveira         35\n",
       "26       lailsonbm         29"
      ]
     },
     "execution_count": 22,
     "metadata": {},
     "output_type": "execute_result"
    }
   ],
   "source": [
    "# todos os usuarios recifenses (nem todos serao considerados como nos do graph - ver Parte 2) \n",
    "nodes_preview = gh_users_Followers.loc[:,['User','nFs']]\n",
    "nodes_preview.columns = ['Id', 'In-Degree']\n",
    "\n",
    "nodes_preview.head()"
   ]
  },
  {
   "cell_type": "code",
   "execution_count": 23,
   "metadata": {},
   "outputs": [
    {
     "data": {
      "text/html": [
       "<div>\n",
       "<style scoped>\n",
       "    .dataframe tbody tr th:only-of-type {\n",
       "        vertical-align: middle;\n",
       "    }\n",
       "\n",
       "    .dataframe tbody tr th {\n",
       "        vertical-align: top;\n",
       "    }\n",
       "\n",
       "    .dataframe thead th {\n",
       "        text-align: right;\n",
       "    }\n",
       "</style>\n",
       "<table border=\"1\" class=\"dataframe\">\n",
       "  <thead>\n",
       "    <tr style=\"text-align: right;\">\n",
       "      <th></th>\n",
       "      <th>Source</th>\n",
       "      <th>Target</th>\n",
       "    </tr>\n",
       "  </thead>\n",
       "  <tbody>\n",
       "    <tr>\n",
       "      <th>0</th>\n",
       "      <td>joselitojunior1</td>\n",
       "      <td>fernandocastor</td>\n",
       "    </tr>\n",
       "    <tr>\n",
       "      <th>1</th>\n",
       "      <td>filipeximenes</td>\n",
       "      <td>fernandocastor</td>\n",
       "    </tr>\n",
       "    <tr>\n",
       "      <th>2</th>\n",
       "      <td>renatooliveira</td>\n",
       "      <td>fernandocastor</td>\n",
       "    </tr>\n",
       "    <tr>\n",
       "      <th>3</th>\n",
       "      <td>henvic</td>\n",
       "      <td>fernandocastor</td>\n",
       "    </tr>\n",
       "    <tr>\n",
       "      <th>4</th>\n",
       "      <td>fjsj</td>\n",
       "      <td>fernandocastor</td>\n",
       "    </tr>\n",
       "  </tbody>\n",
       "</table>\n",
       "</div>"
      ],
      "text/plain": [
       "            Source          Target\n",
       "0  joselitojunior1  fernandocastor\n",
       "1    filipeximenes  fernandocastor\n",
       "2   renatooliveira  fernandocastor\n",
       "3           henvic  fernandocastor\n",
       "4             fjsj  fernandocastor"
      ]
     },
     "execution_count": 23,
     "metadata": {},
     "output_type": "execute_result"
    }
   ],
   "source": [
    "# criacao das arestas\n",
    "\n",
    "pairs = zip(gh_users_Followers.User, gh_users_Followers.Followers)\n",
    "\n",
    "edges = [pd.DataFrame([{'Source':str(f), 'Target':str(u)} for f in fs['User']]) for (u,fs) in pairs]\n",
    "\n",
    "edges_df = create_edges_df(edges)\n",
    "edges_df.head()"
   ]
  },
  {
   "cell_type": "code",
   "execution_count": 24,
   "metadata": {},
   "outputs": [],
   "source": [
    "edges_df.to_csv('edges.csv', index=False)"
   ]
  },
  {
   "cell_type": "markdown",
   "metadata": {},
   "source": [
    "\n",
    "# Parte 2: Análise dos Dados - Users_Followers"
   ]
  },
  {
   "cell_type": "code",
   "execution_count": 25,
   "metadata": {},
   "outputs": [
    {
     "data": {
      "text/plain": [
       "1992"
      ]
     },
     "execution_count": 25,
     "metadata": {},
     "output_type": "execute_result"
    }
   ],
   "source": [
    "# numero de usuarios recifenses \n",
    "gh_users_Followers['User'].count()"
   ]
  },
  {
   "cell_type": "code",
   "execution_count": 26,
   "metadata": {},
   "outputs": [
    {
     "data": {
      "text/plain": [
       "692"
      ]
     },
     "execution_count": 26,
     "metadata": {},
     "output_type": "execute_result"
    }
   ],
   "source": [
    "# numero de usuarios recifenses com pelo menos 1 seguidor \n",
    "users_0_fs = [str(n) for n in gh_users_Followers.User[gh_users_Followers['nFs'] != 0]]\n",
    "len(users_0_fs)"
   ]
  },
  {
   "cell_type": "code",
   "execution_count": 27,
   "metadata": {},
   "outputs": [
    {
     "data": {
      "text/plain": [
       "1300"
      ]
     },
     "execution_count": 27,
     "metadata": {},
     "output_type": "execute_result"
    }
   ],
   "source": [
    "# numero de usuarios recifenses com 0 seguidores \n",
    "users_0_fs = [str(n) for n in gh_users_Followers.User[gh_users_Followers['nFs'] == 0]]\n",
    "len(users_0_fs)"
   ]
  },
  {
   "cell_type": "markdown",
   "metadata": {},
   "source": [
    "Obs.: número de nós considerados\n",
    "\n",
    "Note que como estes nós pertencem a uma aresta, eles representam os usuários que tem seguidores e/ou seguem alguém."
   ]
  },
  {
   "cell_type": "code",
   "execution_count": 28,
   "metadata": {},
   "outputs": [
    {
     "data": {
      "text/plain": [
       "828"
      ]
     },
     "execution_count": 28,
     "metadata": {},
     "output_type": "execute_result"
    }
   ],
   "source": [
    "# (usuarios recifenses, excluidos os que não tem seguidores se e somente se não seguem ninguem)\n",
    "len(pd.unique(edges_df[['Source','Target']].values.ravel()))"
   ]
  },
  {
   "cell_type": "code",
   "execution_count": 29,
   "metadata": {},
   "outputs": [
    {
     "data": {
      "text/plain": [
       "2320"
      ]
     },
     "execution_count": 29,
     "metadata": {},
     "output_type": "execute_result"
    }
   ],
   "source": [
    "# numero de arestas (somatorio do total de seguidores por usuario)\n",
    "gh_users_Followers.nFs.sum()"
   ]
  },
  {
   "cell_type": "code",
   "execution_count": 30,
   "metadata": {},
   "outputs": [
    {
     "data": {
      "text/plain": [
       "Source    2320\n",
       "Target    2320\n",
       "dtype: int64"
      ]
     },
     "execution_count": 30,
     "metadata": {},
     "output_type": "execute_result"
    }
   ],
   "source": [
    "# revendo o numero de arestas\n",
    "edges = pd.read_csv('edges.csv')\n",
    "edges.count()"
   ]
  },
  {
   "cell_type": "code",
   "execution_count": 31,
   "metadata": {},
   "outputs": [
    {
     "data": {
      "text/plain": [
       "0     1300\n",
       "1      310\n",
       "2      142\n",
       "3       67\n",
       "4       42\n",
       "5       27\n",
       "7       19\n",
       "6       18\n",
       "8       14\n",
       "9       14\n",
       "11       6\n",
       "14       5\n",
       "12       3\n",
       "23       3\n",
       "20       2\n",
       "13       2\n",
       "18       2\n",
       "10       2\n",
       "15       2\n",
       "24       2\n",
       "25       2\n",
       "29       1\n",
       "37       1\n",
       "35       1\n",
       "16       1\n",
       "28       1\n",
       "19       1\n",
       "40       1\n",
       "48       1\n",
       "Name: nFs, dtype: int64"
      ]
     },
     "execution_count": 31,
     "metadata": {},
     "output_type": "execute_result"
    }
   ],
   "source": [
    "# distribuicao do Grau\n",
    "gh_users_Followers.nFs.value_counts()"
   ]
  },
  {
   "cell_type": "code",
   "execution_count": 32,
   "metadata": {},
   "outputs": [
    {
     "data": {
      "text/plain": [
       "nFs\n",
       "0     eliene-mb,anniewalker,lucasvsr,nataliaalves,th...\n",
       "1     filipe-torres,ericksantana,Kassio-Ferreira,koo...\n",
       "2     sudorafa,gilesv,andreneto,marcoshmendes,tonnyv...\n",
       "3     luhanlacerda,walber,mauLeal,tcostam,bebetocf,v...\n",
       "4     vmms16,wwcoderecife,andreldm,lhew,brunovpl,cit...\n",
       "5     favasconcelos,alinedoleron,djalmaafilho,Master...\n",
       "6     vanessa,gcaraciolo,luizlago,omailson,rvlb-19,L...\n",
       "7     pedroqueiroz,t0rr3sp3dr0,leticiamachado,felipe...\n",
       "8     iagobelo,dvro,nielsonsantana,tomersimis,JoaoGF...\n",
       "9     patrickrbc,luanfonceca,jeftarmascarenhas,ovict...\n",
       "10                              miguelarauj1o,Cisneiros\n",
       "11    lmarinho,leopoldomt,karlafalcao,irgmedeiros,br...\n",
       "12           brunnogomes,jordanamorais,marcellustavares\n",
       "13                            brunofarache,alexpessoajr\n",
       "14    vinicius3w,thiagodiniz,diegonvs,victorlaerte,a...\n",
       "15                                interaminense,dakerfp\n",
       "16                                           pauloborba\n",
       "18                                        gvc,luiztiago\n",
       "19                                             mairatma\n",
       "20                                  fjsj,talitaoliveira\n",
       "23                   joselitojunior1,gileno,arthuralvim\n",
       "24                     guiocavalcanti,clovisdasilvaneto\n",
       "25                               guilhermefarias,henvic\n",
       "28                                      marcelcaraciolo\n",
       "29                                            lailsonbm\n",
       "35                                       renatooliveira\n",
       "37                                           simoneas02\n",
       "40                                        filipeximenes\n",
       "48                                       fernandocastor\n",
       "Name: User, dtype: object"
      ]
     },
     "execution_count": 32,
     "metadata": {},
     "output_type": "execute_result"
    }
   ],
   "source": [
    "# distribuicao do grau - usuarios por ocorrencias da quantidade de seguidores \n",
    "groupby_nfs = gh_users_Followers.groupby('nFs')\n",
    "groupby_nfs['User'].apply( ','.join)"
   ]
  }
 ],
 "metadata": {
  "kernelspec": {
   "display_name": "Python 3",
   "language": "python",
   "name": "python3"
  },
  "language_info": {
   "codemirror_mode": {
    "name": "ipython",
    "version": 3
   },
   "file_extension": ".py",
   "mimetype": "text/x-python",
   "name": "python",
   "nbconvert_exporter": "python",
   "pygments_lexer": "ipython3",
   "version": "3.6.4"
  }
 },
 "nbformat": 4,
 "nbformat_minor": 2
}
